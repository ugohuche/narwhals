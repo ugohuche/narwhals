{
 "cells": [
  {
   "cell_type": "code",
   "execution_count": null,
   "id": "1dbc9557",
   "metadata": {
    "execution": {
     "iopub.execute_input": "2024-07-25T23:09:49.813423Z",
     "iopub.status.busy": "2024-07-25T23:09:49.813055Z",
     "iopub.status.idle": "2024-07-25T23:10:36.285987Z",
     "shell.execute_reply": "2024-07-25T23:10:36.284597Z"
    },
    "papermill": {
     "duration": 46.481932,
     "end_time": "2024-07-25T23:10:36.288698",
     "exception": false,
     "start_time": "2024-07-25T23:09:49.806766",
     "status": "completed"
    },
    "tags": []
   },
   "outputs": [],
   "source": [
    "!pip uninstall apache-beam -y && pip install -U pandas polars pyarrow narwhals "
   ]
  },
  {
   "cell_type": "code",
   "execution_count": 2,
   "id": "e8353a92",
   "metadata": {
    "execution": {
     "iopub.execute_input": "2024-07-25T23:10:36.305747Z",
     "iopub.status.busy": "2024-07-25T23:10:36.305327Z",
     "iopub.status.idle": "2024-07-25T23:10:36.816412Z",
     "shell.execute_reply": "2024-07-25T23:10:36.815296Z"
    },
    "papermill": {
     "duration": 0.522877,
     "end_time": "2024-07-25T23:10:36.819167",
     "exception": false,
     "start_time": "2024-07-25T23:10:36.296290",
     "status": "completed"
    },
    "tags": []
   },
   "outputs": [],
   "source": [
    "import pandas as pd\n",
    "import polars as pl\n",
    "\n",
    "pd.options.mode.copy_on_write = True\n",
    "pd.options.future.infer_string = True"
   ]
  },
  {
   "cell_type": "code",
   "execution_count": 3,
   "id": "86331fa9",
   "metadata": {
    "execution": {
     "iopub.execute_input": "2024-07-25T23:10:36.835559Z",
     "iopub.status.busy": "2024-07-25T23:10:36.835036Z",
     "iopub.status.idle": "2024-07-25T23:10:36.851655Z",
     "shell.execute_reply": "2024-07-25T23:10:36.850660Z"
    },
    "papermill": {
     "duration": 0.02756,
     "end_time": "2024-07-25T23:10:36.854110",
     "exception": false,
     "start_time": "2024-07-25T23:10:36.826550",
     "status": "completed"
    },
    "tags": []
   },
   "outputs": [],
   "source": [
    "from typing import Any\n",
    "import narwhals as nw\n",
    "\n",
    "def q13(\n",
    "    customer_ds_raw: Any,\n",
    "    orders_ds_raw: Any\n",
    ") -> Any:\n",
    "\n",
    "    customer_ds = nw.from_native(customer_ds_raw)\n",
    "    orders_ds = nw.from_native(orders_ds_raw)\n",
    "    \n",
    "    var1 = \"special\"\n",
    "    var2 = \"requests\"\n",
    "\n",
    "    orders_ds = orders_ds.filter(~nw.col(\"o_comment\").str.contains(f\"{var1}.*{var2}\"))\n",
    "    \n",
    "    result = (\n",
    "        customer_ds.join(orders_ds, left_on=\"c_custkey\", right_on=\"o_custkey\", how=\"left\")\n",
    "        .group_by(\"c_custkey\")\n",
    "        .agg(nw.col(\"o_orderkey\").len().alias(\"c_count\"))\n",
    "        .group_by(\"c_count\")\n",
    "        .agg(nw.col(\"c_count\").len().alias(\"len\"))\n",
    "        .select(nw.col(\"c_count\"), nw.col(\"len\").alias(\"custdist\"))\n",
    "        .sort(by=[\"custdist\", \"c_count\"], descending=[True, True])\n",
    "    )\n",
    "\n",
    "    return nw.to_native(result)"
   ]
  },
  {
   "cell_type": "code",
   "execution_count": 4,
   "id": "661cc834",
   "metadata": {
    "execution": {
     "iopub.execute_input": "2024-07-25T23:10:36.870641Z",
     "iopub.status.busy": "2024-07-25T23:10:36.870107Z",
     "iopub.status.idle": "2024-07-25T23:10:36.875494Z",
     "shell.execute_reply": "2024-07-25T23:10:36.874307Z"
    },
    "papermill": {
     "duration": 0.016452,
     "end_time": "2024-07-25T23:10:36.878001",
     "exception": false,
     "start_time": "2024-07-25T23:10:36.861549",
     "status": "completed"
    },
    "tags": []
   },
   "outputs": [],
   "source": [
    "dir_ = \"/kaggle/input/tpc-h-data-parquet-s-2/\"\n",
    "customer = dir_ + 'customer.parquet'\n",
    "orders = dir_ + 'orders.parquet'"
   ]
  },
  {
   "cell_type": "code",
   "execution_count": 5,
   "id": "8631fd1d",
   "metadata": {
    "execution": {
     "iopub.execute_input": "2024-07-25T23:10:36.894346Z",
     "iopub.status.busy": "2024-07-25T23:10:36.893939Z",
     "iopub.status.idle": "2024-07-25T23:10:36.899766Z",
     "shell.execute_reply": "2024-07-25T23:10:36.898615Z"
    },
    "papermill": {
     "duration": 0.016664,
     "end_time": "2024-07-25T23:10:36.902043",
     "exception": false,
     "start_time": "2024-07-25T23:10:36.885379",
     "status": "completed"
    },
    "tags": []
   },
   "outputs": [],
   "source": [
    "IO_FUNCS = {\n",
    "    'pandas': lambda x: pd.read_parquet(x, engine='pyarrow'),\n",
    "    'pandas[pyarrow]': lambda x: pd.read_parquet(x, engine='pyarrow', dtype_backend='pyarrow'),\n",
    "    'polars[eager]': lambda x: pl.read_parquet(x),\n",
    "    'polars[lazy]': lambda x: pl.scan_parquet(x),\n",
    "}"
   ]
  },
  {
   "cell_type": "code",
   "execution_count": 6,
   "id": "82b3c815",
   "metadata": {
    "execution": {
     "iopub.execute_input": "2024-07-25T23:10:36.918846Z",
     "iopub.status.busy": "2024-07-25T23:10:36.917939Z",
     "iopub.status.idle": "2024-07-25T23:10:36.922723Z",
     "shell.execute_reply": "2024-07-25T23:10:36.921667Z"
    },
    "papermill": {
     "duration": 0.015614,
     "end_time": "2024-07-25T23:10:36.924894",
     "exception": false,
     "start_time": "2024-07-25T23:10:36.909280",
     "status": "completed"
    },
    "tags": []
   },
   "outputs": [],
   "source": [
    "results = {}"
   ]
  },
  {
   "cell_type": "markdown",
   "id": "d997c627",
   "metadata": {
    "papermill": {
     "duration": 0.006996,
     "end_time": "2024-07-25T23:10:36.939302",
     "exception": false,
     "start_time": "2024-07-25T23:10:36.932306",
     "status": "completed"
    },
    "tags": []
   },
   "source": [
    "## pandas via Narwhals"
   ]
  },
  {
   "cell_type": "code",
   "execution_count": null,
   "id": "eab291f2",
   "metadata": {
    "execution": {
     "iopub.execute_input": "2024-07-25T23:10:36.955324Z",
     "iopub.status.busy": "2024-07-25T23:10:36.954974Z",
     "iopub.status.idle": "2024-07-25T23:11:21.862720Z",
     "shell.execute_reply": "2024-07-25T23:11:21.861590Z"
    },
    "papermill": {
     "duration": 44.926739,
     "end_time": "2024-07-25T23:11:21.873211",
     "exception": false,
     "start_time": "2024-07-25T23:10:36.946472",
     "status": "completed"
    },
    "tags": []
   },
   "outputs": [],
   "source": [
    "tool = 'pandas'\n",
    "fn = IO_FUNCS[tool]\n",
    "timings = %timeit -o q13(fn(customer), fn(orders))\n",
    "results[tool] = timings.all_runs"
   ]
  },
  {
   "cell_type": "markdown",
   "id": "297721e0",
   "metadata": {
    "papermill": {
     "duration": 0.006853,
     "end_time": "2024-07-25T23:11:21.887504",
     "exception": false,
     "start_time": "2024-07-25T23:11:21.880651",
     "status": "completed"
    },
    "tags": []
   },
   "source": [
    "## pandas, pyarrow dtypes, via Narwhals"
   ]
  },
  {
   "cell_type": "code",
   "execution_count": null,
   "id": "25b4f90f",
   "metadata": {
    "execution": {
     "iopub.execute_input": "2024-07-25T23:11:21.904256Z",
     "iopub.status.busy": "2024-07-25T23:11:21.903414Z",
     "iopub.status.idle": "2024-07-25T23:12:06.618899Z",
     "shell.execute_reply": "2024-07-25T23:12:06.617743Z"
    },
    "papermill": {
     "duration": 44.733391,
     "end_time": "2024-07-25T23:12:06.628137",
     "exception": false,
     "start_time": "2024-07-25T23:11:21.894746",
     "status": "completed"
    },
    "tags": []
   },
   "outputs": [],
   "source": [
    "tool = 'pandas[pyarrow]'\n",
    "fn = IO_FUNCS[tool]\n",
    "timings = %timeit -o q13(fn(customer), fn(orders))\n",
    "results[tool] = timings.all_runs"
   ]
  },
  {
   "cell_type": "markdown",
   "id": "456df2b0",
   "metadata": {
    "papermill": {
     "duration": 0.006896,
     "end_time": "2024-07-25T23:12:06.642200",
     "exception": false,
     "start_time": "2024-07-25T23:12:06.635304",
     "status": "completed"
    },
    "tags": []
   },
   "source": [
    "## Polars read_parquet"
   ]
  },
  {
   "cell_type": "code",
   "execution_count": null,
   "id": "3998ae3e",
   "metadata": {
    "execution": {
     "iopub.execute_input": "2024-07-25T23:12:06.658219Z",
     "iopub.status.busy": "2024-07-25T23:12:06.657876Z",
     "iopub.status.idle": "2024-07-25T23:12:20.548334Z",
     "shell.execute_reply": "2024-07-25T23:12:20.547138Z"
    },
    "papermill": {
     "duration": 13.901571,
     "end_time": "2024-07-25T23:12:20.550910",
     "exception": false,
     "start_time": "2024-07-25T23:12:06.649339",
     "status": "completed"
    },
    "tags": []
   },
   "outputs": [],
   "source": [
    "tool = 'polars[eager]'\n",
    "fn = IO_FUNCS[tool]\n",
    "timings = %timeit -o q13(fn(customer), fn(orders))\n",
    "results[tool] = timings.all_runs"
   ]
  },
  {
   "cell_type": "markdown",
   "id": "d153b79c",
   "metadata": {
    "papermill": {
     "duration": 0.0075,
     "end_time": "2024-07-25T23:12:20.566105",
     "exception": false,
     "start_time": "2024-07-25T23:12:20.558605",
     "status": "completed"
    },
    "tags": []
   },
   "source": [
    "## Polars scan_parquet"
   ]
  },
  {
   "cell_type": "code",
   "execution_count": null,
   "id": "1fc67864",
   "metadata": {
    "execution": {
     "iopub.execute_input": "2024-07-25T23:12:20.582484Z",
     "iopub.status.busy": "2024-07-25T23:12:20.582099Z",
     "iopub.status.idle": "2024-07-25T23:12:30.964431Z",
     "shell.execute_reply": "2024-07-25T23:12:30.963406Z"
    },
    "papermill": {
     "duration": 10.393542,
     "end_time": "2024-07-25T23:12:30.967063",
     "exception": false,
     "start_time": "2024-07-25T23:12:20.573521",
     "status": "completed"
    },
    "tags": []
   },
   "outputs": [],
   "source": [
    "tool = 'polars[lazy]'\n",
    "fn = IO_FUNCS[tool]\n",
    "timings = %timeit -o q13(fn(customer), fn(orders)).collect()\n",
    "results[tool] = timings.all_runs"
   ]
  },
  {
   "cell_type": "markdown",
   "id": "03aa381e",
   "metadata": {
    "papermill": {
     "duration": 0.007808,
     "end_time": "2024-07-25T23:12:30.982613",
     "exception": false,
     "start_time": "2024-07-25T23:12:30.974805",
     "status": "completed"
    },
    "tags": []
   },
   "source": [
    "## Save"
   ]
  },
  {
   "cell_type": "code",
   "execution_count": 11,
   "id": "38ab0d35",
   "metadata": {
    "execution": {
     "iopub.execute_input": "2024-07-25T23:12:30.999827Z",
     "iopub.status.busy": "2024-07-25T23:12:30.999435Z",
     "iopub.status.idle": "2024-07-25T23:12:31.005087Z",
     "shell.execute_reply": "2024-07-25T23:12:31.004131Z"
    },
    "papermill": {
     "duration": 0.017013,
     "end_time": "2024-07-25T23:12:31.007464",
     "exception": false,
     "start_time": "2024-07-25T23:12:30.990451",
     "status": "completed"
    },
    "tags": []
   },
   "outputs": [],
   "source": [
    "import json\n",
    "with open('results.json', 'w') as fd:\n",
    "    json.dump(results, fd)\n"
   ]
  }
 ],
 "metadata": {
  "kaggle": {
   "accelerator": "none",
   "dataSources": [
    {
     "sourceId": 167796934,
     "sourceType": "kernelVersion"
    }
   ],
   "dockerImageVersionId": 30673,
   "isGpuEnabled": false,
   "isInternetEnabled": true,
   "language": "python",
   "sourceType": "notebook"
  },
  "kernelspec": {
   "display_name": "Python 3",
   "language": "python",
   "name": "python3"
  },
  "language_info": {
   "codemirror_mode": {
    "name": "ipython",
    "version": 3
   },
   "file_extension": ".py",
   "mimetype": "text/x-python",
   "name": "python",
   "nbconvert_exporter": "python",
   "pygments_lexer": "ipython3",
   "version": "3.10.13"
  },
  "papermill": {
   "default_parameters": {},
   "duration": 164.526043,
   "end_time": "2024-07-25T23:12:31.536428",
   "environment_variables": {},
   "exception": null,
   "input_path": "__notebook__.ipynb",
   "output_path": "__notebook__.ipynb",
   "parameters": {},
   "start_time": "2024-07-25T23:09:47.010385",
   "version": "2.5.0"
  }
 },
 "nbformat": 4,
 "nbformat_minor": 5
}
